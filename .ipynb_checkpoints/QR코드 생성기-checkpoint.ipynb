{
 "cells": [
  {
   "cell_type": "code",
   "execution_count": 2,
   "id": "605a35ba",
   "metadata": {},
   "outputs": [
    {
     "name": "stdout",
     "output_type": "stream",
     "text": [
      "Collecting qrcode\n",
      "  Downloading qrcode-7.4.2-py3-none-any.whl (46 kB)\n",
      "     ---------------------------------------- 0.0/46.2 kB ? eta -:--:--\n",
      "     ---------------- --------------------- 20.5/46.2 kB 640.0 kB/s eta 0:00:01\n",
      "     --------------------------------- ---- 41.0/46.2 kB 653.6 kB/s eta 0:00:01\n",
      "     -------------------------------------- 46.2/46.2 kB 326.9 kB/s eta 0:00:00\n",
      "Requirement already satisfied: typing-extensions in c:\\users\\user\\anaconda3\\lib\\site-packages (from qrcode) (4.7.1)\n",
      "Collecting pypng (from qrcode)\n",
      "  Downloading pypng-0.20220715.0-py3-none-any.whl (58 kB)\n",
      "     ---------------------------------------- 0.0/58.1 kB ? eta -:--:--\n",
      "     ----------------------------------- ---- 51.2/58.1 kB 2.6 MB/s eta 0:00:01\n",
      "     ---------------------------------------- 58.1/58.1 kB 1.0 MB/s eta 0:00:00\n",
      "Requirement already satisfied: colorama in c:\\users\\user\\anaconda3\\lib\\site-packages (from qrcode) (0.4.6)\n",
      "Installing collected packages: pypng, qrcode\n",
      "Successfully installed pypng-0.20220715.0 qrcode-7.4.2\n",
      "Note: you may need to restart the kernel to use updated packages.\n"
     ]
    }
   ],
   "source": [
    "pip install qrcode"
   ]
  },
  {
   "cell_type": "code",
   "execution_count": 3,
   "id": "00fedfb2",
   "metadata": {},
   "outputs": [],
   "source": [
    "import qrcode\n",
    "data='hello,world'\n",
    "img = qrcode.make(data)\n",
    "img.save('qrcode.png')"
   ]
  },
  {
   "cell_type": "code",
   "execution_count": 2,
   "id": "0fa68d39",
   "metadata": {},
   "outputs": [],
   "source": [
    "import qrcode\n",
    "import os\n",
    "\n",
    "\n",
    "data='hello,world'\n",
    "img = qrcode.make(data)\n",
    "file_path = os.path.join('sample','qrcode.png') # 원하는 폴더에 추가하기\n",
    "img.save(file_path)"
   ]
  },
  {
   "cell_type": "code",
   "execution_count": null,
   "id": "ff986f9f",
   "metadata": {},
   "outputs": [],
   "source": []
  }
 ],
 "metadata": {
  "kernelspec": {
   "display_name": "Python 3 (ipykernel)",
   "language": "python",
   "name": "python3"
  },
  "language_info": {
   "codemirror_mode": {
    "name": "ipython",
    "version": 3
   },
   "file_extension": ".py",
   "mimetype": "text/x-python",
   "name": "python",
   "nbconvert_exporter": "python",
   "pygments_lexer": "ipython3",
   "version": "3.11.5"
  }
 },
 "nbformat": 4,
 "nbformat_minor": 5
}
