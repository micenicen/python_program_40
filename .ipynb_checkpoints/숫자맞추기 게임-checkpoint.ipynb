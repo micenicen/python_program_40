{
 "cells": [
  {
   "cell_type": "code",
   "execution_count": 1,
   "id": "5b96d1f3",
   "metadata": {},
   "outputs": [
    {
     "name": "stdout",
     "output_type": "stream",
     "text": [
      "1부터 100까지의 숫자를 입력하세요 : 10\n",
      "입력한 숫자가 너무 작습니다.\n",
      "1부터 100까지의 숫자를 입력하세요 : 50\n",
      "입력한 숫자가 너무 작습니다.\n",
      "1부터 100까지의 숫자를 입력하세요 : 70\n",
      "입력한 숫자가 너무 작습니다.\n",
      "1부터 100까지의 숫자를 입력하세요 : 90\n",
      "입력한 숫자가 너무 작습니다.\n",
      "1부터 100까지의 숫자를 입력하세요 : 95\n",
      "입력한 숫자가 너무 작습니다.\n",
      "1부터 100까지의 숫자를 입력하세요 : 99\n",
      "입력한 숫자가 너무 큽니다.\n",
      "1부터 100까지의 숫자를 입력하세요 : 97\n",
      "축하합니다. 7회 만에 맞췄습니다.\n"
     ]
    }
   ],
   "source": [
    "import random\n",
    "number = random.randint(1,100)\n",
    "num_of_guesses = 0\n",
    "while True:\n",
    "    guess = int(input('1부터 100까지의 숫자를 입력하세요 : '))\n",
    "    num_of_guesses +=1\n",
    "    if guess > number:\n",
    "        print('입력한 숫자가 너무 큽니다.')\n",
    "    elif guess < number:\n",
    "        print('입력한 숫자가 너무 작습니다.')\n",
    "    else:\n",
    "        print(f'축하합니다. {num_of_guesses}회 만에 맞췄습니다.')\n",
    "        break"
   ]
  },
  {
   "cell_type": "code",
   "execution_count": null,
   "id": "6d5eaa01",
   "metadata": {},
   "outputs": [],
   "source": []
  }
 ],
 "metadata": {
  "kernelspec": {
   "display_name": "Python 3 (ipykernel)",
   "language": "python",
   "name": "python3"
  },
  "language_info": {
   "codemirror_mode": {
    "name": "ipython",
    "version": 3
   },
   "file_extension": ".py",
   "mimetype": "text/x-python",
   "name": "python",
   "nbconvert_exporter": "python",
   "pygments_lexer": "ipython3",
   "version": "3.11.5"
  }
 },
 "nbformat": 4,
 "nbformat_minor": 5
}
