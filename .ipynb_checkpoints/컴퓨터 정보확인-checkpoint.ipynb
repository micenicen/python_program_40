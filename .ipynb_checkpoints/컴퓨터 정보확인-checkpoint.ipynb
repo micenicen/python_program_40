{
 "cells": [
  {
   "cell_type": "code",
   "execution_count": 2,
   "id": "a86b9125",
   "metadata": {},
   "outputs": [],
   "source": [
    "import psutil\n",
    "import time"
   ]
  },
  {
   "cell_type": "code",
   "execution_count": 3,
   "id": "81015122",
   "metadata": {},
   "outputs": [
    {
     "name": "stdout",
     "output_type": "stream",
     "text": [
      "CPU 사용량:3.0%\n",
      "메모리 사용량: 12.6%\n",
      "네트워크 사용량: 송신 = 606780bytes, 수신=5951893bytes\n",
      "CPU 사용량:1.3%\n",
      "메모리 사용량: 12.7%\n",
      "네트워크 사용량: 송신 = 606780bytes, 수신=5963732bytes\n",
      "CPU 사용량:3.5%\n",
      "메모리 사용량: 12.7%\n",
      "네트워크 사용량: 송신 = 606780bytes, 수신=5979584bytes\n",
      "CPU 사용량:2.8%\n",
      "메모리 사용량: 12.7%\n",
      "네트워크 사용량: 송신 = 606780bytes, 수신=5995798bytes\n",
      "CPU 사용량:1.7%\n",
      "메모리 사용량: 12.7%\n",
      "네트워크 사용량: 송신 = 607012bytes, 수신=6038305bytes\n",
      "CPU 사용량:5.3%\n",
      "메모리 사용량: 12.7%\n",
      "네트워크 사용량: 송신 = 607244bytes, 수신=6059733bytes\n",
      "CPU 사용량:2.7%\n",
      "메모리 사용량: 12.7%\n",
      "네트워크 사용량: 송신 = 607244bytes, 수신=6076141bytes\n",
      "CPU 사용량:4.4%\n",
      "메모리 사용량: 12.7%\n",
      "네트워크 사용량: 송신 = 607244bytes, 수신=6113491bytes\n",
      "CPU 사용량:3.0%\n",
      "메모리 사용량: 12.7%\n",
      "네트워크 사용량: 송신 = 607244bytes, 수신=6134348bytes\n",
      "CPU 사용량:3.3%\n",
      "메모리 사용량: 12.7%\n",
      "네트워크 사용량: 송신 = 607476bytes, 수신=6161215bytes\n",
      "CPU 사용량:3.7%\n",
      "메모리 사용량: 12.7%\n",
      "네트워크 사용량: 송신 = 607708bytes, 수신=6187136bytes\n",
      "CPU 사용량:5.0%\n",
      "메모리 사용량: 12.7%\n",
      "네트워크 사용량: 송신 = 607708bytes, 수신=6218187bytes\n",
      "CPU 사용량:6.9%\n",
      "메모리 사용량: 12.7%\n",
      "네트워크 사용량: 송신 = 612152bytes, 수신=6248127bytes\n"
     ]
    },
    {
     "ename": "KeyboardInterrupt",
     "evalue": "",
     "output_type": "error",
     "traceback": [
      "\u001b[1;31m---------------------------------------------------------------------------\u001b[0m",
      "\u001b[1;31mKeyboardInterrupt\u001b[0m                         Traceback (most recent call last)",
      "Cell \u001b[1;32mIn[3], line 12\u001b[0m\n\u001b[0;32m     10\u001b[0m bytes_recv \u001b[38;5;241m=\u001b[39m net_io_counters\u001b[38;5;241m.\u001b[39mbytes_recv\n\u001b[0;32m     11\u001b[0m \u001b[38;5;28mprint\u001b[39m(\u001b[38;5;124mf\u001b[39m\u001b[38;5;124m'\u001b[39m\u001b[38;5;124m네트워크 사용량: 송신 = \u001b[39m\u001b[38;5;132;01m{\u001b[39;00mbytes_sent\u001b[38;5;132;01m}\u001b[39;00m\u001b[38;5;124mbytes, 수신=\u001b[39m\u001b[38;5;132;01m{\u001b[39;00mbytes_recv\u001b[38;5;132;01m}\u001b[39;00m\u001b[38;5;124mbytes\u001b[39m\u001b[38;5;124m'\u001b[39m)\n\u001b[1;32m---> 12\u001b[0m time\u001b[38;5;241m.\u001b[39msleep(\u001b[38;5;241m1\u001b[39m)\n",
      "\u001b[1;31mKeyboardInterrupt\u001b[0m: "
     ]
    }
   ],
   "source": [
    "while True:\n",
    "    cpu_percent = psutil.cpu_percent(interval=None)\n",
    "    print(f'CPU 사용량:{cpu_percent}%')\n",
    "    \n",
    "    mem = psutil.virtual_memory()\n",
    "    mem_percent=mem.percent\n",
    "    print(f'메모리 사용량: {mem_percent}%')\n",
    "    net_io_counters = psutil.net_io_counters()\n",
    "    bytes_sent = net_io_counters.bytes_sent\n",
    "    bytes_recv = net_io_counters.bytes_recv\n",
    "    print(f'네트워크 사용량: 송신 = {bytes_sent}bytes, 수신={bytes_recv}bytes')\n",
    "    time.sleep(1)"
   ]
  },
  {
   "cell_type": "code",
   "execution_count": 5,
   "id": "ae4f2fa4",
   "metadata": {},
   "outputs": [],
   "source": [
    "import psutil\n",
    "import tkinter as tk\n",
    "\n",
    "window = tk.Tk()\n",
    "window.title('시스템 모니터')\n",
    "    \n",
    "cpu_label = tk.Label(window,text = 'CPU 샤용량: ')\n",
    "cpu_label.pack()\n",
    "\n",
    "ram_label = tk.Label(window,text = 'RAM 사용량: ')\n",
    "ram_label.pack()\n",
    "\n",
    "def update_usage():\n",
    "    cpu_percent = psutil.cpu_percent(interval=None)\n",
    "    cpu_label.config(text=f'CPU 사용량 : {cpu_percent}%')\n",
    "    \n",
    "    mem = psutil.virtual_memory()\n",
    "    mem_percent = mem.percent\n",
    "    ram_label.config(text = f'RAM 사용량 : {mem_percent}%')\n",
    "    \n",
    "    window.after(1000,update_usage)\n",
    "update_usage()\n",
    "\n",
    "window.mainloop()"
   ]
  },
  {
   "cell_type": "code",
   "execution_count": null,
   "id": "d59a4c9f",
   "metadata": {},
   "outputs": [],
   "source": []
  }
 ],
 "metadata": {
  "kernelspec": {
   "display_name": "Python 3 (ipykernel)",
   "language": "python",
   "name": "python3"
  },
  "language_info": {
   "codemirror_mode": {
    "name": "ipython",
    "version": 3
   },
   "file_extension": ".py",
   "mimetype": "text/x-python",
   "name": "python",
   "nbconvert_exporter": "python",
   "pygments_lexer": "ipython3",
   "version": "3.11.5"
  }
 },
 "nbformat": 4,
 "nbformat_minor": 5
}
